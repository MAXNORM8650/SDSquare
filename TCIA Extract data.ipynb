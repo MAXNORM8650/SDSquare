{
 "cells": [
  {
   "cell_type": "code",
   "execution_count": 5,
   "id": "68aa9563",
   "metadata": {},
   "outputs": [],
   "source": [
    "import pydicom\n",
    "\n",
    "# Replace \"path/to/your/file.tcia\" with the actual path to your file\n",
    "ds = pydicom.dcmread(r\"C:\\Users\\Admin\\Dropbox\\PC\\Downloads\\Duke-Breast-Cancer-MRI_v2_20220609.tcia\", force=True)\n",
    "\n"
   ]
  },
  {
   "cell_type": "code",
   "execution_count": 9,
   "id": "a72b5c4d",
   "metadata": {},
   "outputs": [
    {
     "data": {
      "text/plain": [
       "<bound method Dataset.values of (6f64, 6e77)                                     UN: Array of 328880 elements>"
      ]
     },
     "execution_count": 9,
     "metadata": {},
     "output_type": "execute_result"
    }
   ],
   "source": [
    "ds.values"
   ]
  },
  {
   "cell_type": "code",
   "execution_count": 7,
   "id": "27d93a07",
   "metadata": {},
   "outputs": [
    {
     "ename": "AttributeError",
     "evalue": "'FileDataset' object has no attribute 'PatientName'",
     "output_type": "error",
     "traceback": [
      "\u001b[1;31m---------------------------------------------------------------------------\u001b[0m",
      "\u001b[1;31mAttributeError\u001b[0m                            Traceback (most recent call last)",
      "Cell \u001b[1;32mIn[7], line 2\u001b[0m\n\u001b[0;32m      1\u001b[0m \u001b[38;5;66;03m# Now you can access DICOM data elements like this:\u001b[39;00m\n\u001b[1;32m----> 2\u001b[0m patient_name \u001b[38;5;241m=\u001b[39m \u001b[43mds\u001b[49m\u001b[38;5;241;43m.\u001b[39;49m\u001b[43mPatientName\u001b[49m\n\u001b[0;32m      3\u001b[0m study_date \u001b[38;5;241m=\u001b[39m ds\u001b[38;5;241m.\u001b[39mStudyDate\n",
      "File \u001b[1;32m~\\anaconda3\\envs\\en_2\\lib\\site-packages\\pydicom\\dataset.py:834\u001b[0m, in \u001b[0;36mDataset.__getattr__\u001b[1;34m(self, name)\u001b[0m\n\u001b[0;32m    832\u001b[0m     \u001b[38;5;28;01mreturn\u001b[39;00m {}\n\u001b[0;32m    833\u001b[0m \u001b[38;5;66;03m# Try the base class attribute getter (fix for issue 332)\u001b[39;00m\n\u001b[1;32m--> 834\u001b[0m \u001b[38;5;28;01mreturn\u001b[39;00m \u001b[38;5;28;43mobject\u001b[39;49m\u001b[38;5;241;43m.\u001b[39;49m\u001b[38;5;21;43m__getattribute__\u001b[39;49m\u001b[43m(\u001b[49m\u001b[38;5;28;43mself\u001b[39;49m\u001b[43m,\u001b[49m\u001b[43m \u001b[49m\u001b[43mname\u001b[49m\u001b[43m)\u001b[49m\n",
      "\u001b[1;31mAttributeError\u001b[0m: 'FileDataset' object has no attribute 'PatientName'"
     ]
    }
   ],
   "source": [
    "# Now you can access DICOM data elements like this:\n",
    "patient_name = ds.PatientName\n",
    "study_date = ds.StudyDate"
   ]
  },
  {
   "cell_type": "code",
   "execution_count": null,
   "id": "16573a00",
   "metadata": {},
   "outputs": [],
   "source": []
  }
 ],
 "metadata": {
  "kernelspec": {
   "display_name": "Python 3 (ipykernel)",
   "language": "python",
   "name": "python3"
  },
  "language_info": {
   "codemirror_mode": {
    "name": "ipython",
    "version": 3
   },
   "file_extension": ".py",
   "mimetype": "text/x-python",
   "name": "python",
   "nbconvert_exporter": "python",
   "pygments_lexer": "ipython3",
   "version": "3.9.12"
  }
 },
 "nbformat": 4,
 "nbformat_minor": 5
}
