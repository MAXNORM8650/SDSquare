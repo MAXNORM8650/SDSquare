{
 "cells": [
  {
   "cell_type": "code",
   "execution_count": 1,
   "id": "0b51e953",
   "metadata": {},
   "outputs": [],
   "source": [
    "import os\n",
    "from random import randint\n",
    "\n",
    "import cv2\n",
    "import nibabel\n",
    "import nibabel as nib\n",
    "import numpy as np\n",
    "import torch\n",
    "from matplotlib import animation\n",
    "from torch.utils.data import Dataset\n",
    "from torchvision import datasets, transforms\n",
    "import imageio\n",
    "import os\n",
    "from PIL import Image\n",
    "from torchvision import transforms\n",
    "import pandas as pd\n",
    "import random\n",
    "from scipy import ndimage\n",
    "import mat73"
   ]
  },
  {
   "cell_type": "code",
   "execution_count": 5,
   "id": "f6f3ef72",
   "metadata": {},
   "outputs": [],
   "source": [
    "ROOT_DIR = r\"C:\\Users\\Admin\\Dropbox\\PC\\Documents\\Anomaly Detection\\AnoDDPM\\DATASETS\\CancerousDataset\""
   ]
  },
  {
   "cell_type": "code",
   "execution_count": 64,
   "id": "87140616",
   "metadata": {},
   "outputs": [],
   "source": [
    "import matplotlib.pyplot as plt"
   ]
  },
  {
   "cell_type": "code",
   "execution_count": 77,
   "id": "0d8a3a82",
   "metadata": {},
   "outputs": [],
   "source": [
    "class AnoBratsDataset(Dataset):\n",
    "    \"\"\"Anomalous MRI dataset.\"\"\"\n",
    "\n",
    "    def __init__(\n",
    "            self, ROOT_DIR, transform=None, img_size=(256, 256), slice_selection=\"random\", resized=False,\n",
    "            cleaned=False\n",
    "            ):\n",
    "        \"\"\"\n",
    "        Args:\n",
    "            ROOT_DIR (string): Directory with all the images.\n",
    "            transform (callable, optional): Optional transform to be applied\n",
    "                on a sample.\n",
    "            img_size: size of each 2D dataset image\n",
    "            slice_selection: \"random\" = randomly selects a slice from the image\n",
    "                             \"iterateKnown\" = iterates between ranges of tumour using slice data\n",
    "                             \"iterateUnKnown\" = iterates through whole MRI volume\n",
    "        \"\"\"\n",
    "        self.transform = transforms.Compose(\n",
    "                [transforms.ToPILImage(),\n",
    "                 transforms.CenterCrop((175, 240)),\n",
    "                 # transforms.RandomAffine(0, translate=(0.02, 0.1)),\n",
    "                 transforms.Resize(img_size, transforms.InterpolationMode.BILINEAR),\n",
    "                 # transforms.CenterCrop(256),\n",
    "                 transforms.ToTensor(),\n",
    "                 transforms.Normalize((0.5), (0.5))\n",
    "                 ]\n",
    "                ) if not transform else transform\n",
    "        self.img_size = img_size\n",
    "        self.resized = resized\n",
    "        self.slices = {\n",
    "            \"BraTS2021_00000\": range(165, 205), \"BraTS2021_00002\": range(177, 213), \"BraTS2021_00003\": range(160, 190), \"BraTS2021_00005\": range(160, 212),\n",
    "            \"BraTS2021_00006\": range(140, 200), \"BraTS2021_00008\": range(135, 190), \"BraTS2021_00009\": range(150, 205), \"BraTS2021_00011\": range(130, 190),\n",
    "            \"BraTS2021_00012\": range(120, 180), \"BraTS2021_00014\": range(170, 194), \"BraTS2021_00016\": range(158, 195), \"BraTS2021_00017\": range(155, 195),\n",
    "            \"BraTS2021_00018\": range(184, 213), \"BraTS2021_00019\": range(158, 209), \"BraTS2021_00020\": range(158, 210), \"BraTS2021_00021\": range(164, 200),\n",
    "            \"BraTS2021_00022\": range(142, 200), \"BraTS2021_00024\": range(160, 200), \"BraTS2021_00025\": range(147, 210), \"BraTS2021_00026\": range(155, 200)\n",
    "        }\n",
    "\n",
    "        self.filenames = self.slices.keys()\n",
    "        self.filenames = list(map(lambda name: f\"{ROOT_DIR}/{name}/{name}\", self.filenames))\n",
    "        if \".DS_Store\" in self.filenames:\n",
    "            self.filenames.remove(\".DS_Store\")\n",
    "        self.ROOT_DIR = ROOT_DIR\n",
    "        self.slice_selection = slice_selection\n",
    "    def __len__(self):\n",
    "        return len(self.filenames)\n",
    "\n",
    "    def __getitem__(self, idx):\n",
    "        if torch.is_tensor(idx):\n",
    "            idx = idx.tolist()\n",
    "        img_name = self.filenames[idx] + \"_\" + \"t1\" + \".nii.gz\"\n",
    "        mask_name = self.filenames[idx] + \"_\" + \"seg\" + \".nii.gz\"\n",
    "        img = nib.load(img_name)\n",
    "        image = img.get_fdata()\n",
    "        msk = nib.load(mask_name)\n",
    "        mask = msk.get_fdata()            \n",
    "        image = np.rot90(image)\n",
    "        image_mean = np.mean(image)\n",
    "        image_std = np.std(image)\n",
    "        img_range = (image_mean - 1 * image_std, image_mean + 2 * image_std)\n",
    "        image = np.clip(image, img_range[0], img_range[1])\n",
    "        image = image / (img_range[1] - img_range[0])\n",
    "#         np.save(\n",
    "#                 os.path.join(f\"{self.filenames[idx]}.npy\"), image.astype(\n",
    "#                         np.float32\n",
    "#                         )\n",
    "#                 )\n",
    "        sample = {}\n",
    "#         if self.slice_selection == \"random\":\n",
    "        temp_range = self.slices[self.filenames[idx].split(\"/\")[-1]]\n",
    "        slice_idx = randint(temp_range.start, temp_range.stop)\n",
    "        image1 = image[slice_idx:slice_idx + 1, :, :].reshape(image.shape[1], image.shape[2]).astype(np.float32)\n",
    "        mask = mask[slice_idx:slice_idx + 1, :, :].reshape(mask.shape[1], mask.shape[2]).astype(np.float32)\n",
    "        if self.transform:\n",
    "            image = self.transform(image)\n",
    "                # image = transforms.functional.rotate(image, -90)\n",
    "        sample[\"slices\"] = slice_idx\n",
    "\n",
    "#         elif self.slice_selection == \"iterateUnknown\":\n",
    "\n",
    "#             output = torch.empty(image.shape[0], *self.img_size)\n",
    "#             for i in range(image.shape[0]):\n",
    "#                 temp = image[i:i + 1, :, :].reshape(image.shape[1], image.shape[2]).astype(np.float32)\n",
    "#                 if self.transform:\n",
    "#                     temp = self.transform(temp)\n",
    "#                     # temp = transforms.functional.rotate(temp, -90)\n",
    "#                 output[i, ...] = temp\n",
    "\n",
    "#             image = output\n",
    "#             sample[\"slices\"] = image.shape[0]\n",
    "\n",
    "        sample[\"image\"] = image\n",
    "        sample[\"mask\"] = mask\n",
    "        sample[\"filenames\"] = self.filenames[idx].split(\"/\")[-1]\n",
    "#         sample = {'image': image, \"filenames\": self.filenames[idx], \"mask\":mask}\n",
    "        return sample"
   ]
  },
  {
   "cell_type": "code",
   "execution_count": 78,
   "id": "26e0b58e",
   "metadata": {},
   "outputs": [],
   "source": [
    "data = AnomalousMRIDataset(ROOT_DIR)"
   ]
  },
  {
   "cell_type": "code",
   "execution_count": 72,
   "id": "53da2d08",
   "metadata": {},
   "outputs": [
    {
     "data": {
      "text/plain": [
       "['C:\\\\Users\\\\Admin\\\\Dropbox\\\\PC\\\\Documents\\\\Anomaly Detection\\\\AnoDDPM\\\\DATASETS\\\\CancerousDataset',\n",
       " 'BraTS2021_00000',\n",
       " 'BraTS2021_00000']"
      ]
     },
     "execution_count": 72,
     "metadata": {},
     "output_type": "execute_result"
    }
   ],
   "source": [
    "data.filenames[0].split(\"/\")"
   ]
  },
  {
   "cell_type": "code",
   "execution_count": 73,
   "id": "eb21a5b7",
   "metadata": {},
   "outputs": [
    {
     "name": "stdout",
     "output_type": "stream",
     "text": [
      "torch.Size([1, 32, 32])\n",
      "torch.Size([1, 32, 32])\n",
      "torch.Size([1, 32, 32])\n",
      "torch.Size([1, 32, 32])\n",
      "torch.Size([1, 32, 32])\n",
      "torch.Size([1, 32, 32])\n",
      "torch.Size([1, 32, 32])\n",
      "torch.Size([1, 32, 32])\n",
      "torch.Size([1, 32, 32])\n",
      "torch.Size([1, 32, 32])\n",
      "torch.Size([1, 32, 32])\n",
      "torch.Size([1, 32, 32])\n",
      "torch.Size([1, 32, 32])\n",
      "torch.Size([1, 32, 32])\n",
      "torch.Size([1, 32, 32])\n",
      "torch.Size([1, 32, 32])\n",
      "torch.Size([1, 32, 32])\n",
      "torch.Size([1, 32, 32])\n",
      "torch.Size([1, 32, 32])\n",
      "torch.Size([1, 32, 32])\n"
     ]
    }
   ],
   "source": [
    "for i in data:\n",
    "    print(i['image'].shape)"
   ]
  },
  {
   "cell_type": "code",
   "execution_count": 81,
   "id": "272c238d",
   "metadata": {},
   "outputs": [
    {
     "data": {
      "text/plain": [
       "<matplotlib.image.AxesImage at 0x17202f91280>"
      ]
     },
     "execution_count": 81,
     "metadata": {},
     "output_type": "execute_result"
    },
    {
     "data": {
      "image/png": "[encoded data removed]",
      "text/plain": [
       "<Figure size 640x480 with 1 Axes>"
      ]
     },
     "metadata": {},
     "output_type": "display_data"
    }
   ],
   "source": [
    "plt.imshow(i['image'][0])"
   ]
  },
  {
   "cell_type": "code",
   "execution_count": null,
   "id": "f3e83bd9",
   "metadata": {},
   "outputs": [],
   "source": []
  },
  {
   "cell_type": "code",
   "execution_count": 79,
   "id": "00ce6b3b",
   "metadata": {},
   "outputs": [
    {
     "name": "stdout",
     "output_type": "stream",
     "text": [
      "(240, 155)\n",
      "(240, 155)\n",
      "(240, 155)\n",
      "(240, 155)\n",
      "(240, 155)\n",
      "(240, 155)\n",
      "(240, 155)\n",
      "(240, 155)\n",
      "(240, 155)\n",
      "(240, 155)\n",
      "(240, 155)\n",
      "(240, 155)\n",
      "(240, 155)\n",
      "(240, 155)\n",
      "(240, 155)\n",
      "(240, 155)\n",
      "(240, 155)\n",
      "(240, 155)\n",
      "(240, 155)\n",
      "(240, 155)\n"
     ]
    }
   ],
   "source": [
    "for i in data:\n",
    "    print(i['mask'].shape)"
   ]
  },
  {
   "cell_type": "code",
   "execution_count": 80,
   "id": "8d3ad07b",
   "metadata": {},
   "outputs": [
    {
     "data": {
      "text/plain": [
       "<matplotlib.image.AxesImage at 0x17202eec0d0>"
      ]
     },
     "execution_count": 80,
     "metadata": {},
     "output_type": "execute_result"
    },
    {
     "data": {
      "image/png": "[encoded data removed]",
      "text/plain": [
       "<Figure size 640x480 with 1 Axes>"
      ]
     },
     "metadata": {},
     "output_type": "display_data"
    }
   ],
   "source": [
    "plt.imshow(i['mask'])"
   ]
  },
  {
   "cell_type": "code",
   "execution_count": null,
   "id": "87440bb5",
   "metadata": {},
   "outputs": [],
   "source": []
  }
 ],
 "metadata": {
  "kernelspec": {
   "display_name": "Python 3 (ipykernel)",
   "language": "python",
   "name": "python3"
  },
  "language_info": {
   "codemirror_mode": {
    "name": "ipython",
    "version": 3
   },
   "file_extension": ".py",
   "mimetype": "text/x-python",
   "name": "python",
   "nbconvert_exporter": "python",
   "pygments_lexer": "ipython3",
   "version": "3.9.12"
  }
 },
 "nbformat": 4,
 "nbformat_minor": 5
}
